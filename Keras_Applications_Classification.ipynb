{
  "nbformat": 4,
  "nbformat_minor": 0,
  "metadata": {
    "colab": {
      "name": "Keras Applications Classification",
      "provenance": []
    },
    "kernelspec": {
      "name": "python3",
      "display_name": "Python 3"
    }
  },
  "cells": [
    {
      "cell_type": "markdown",
      "metadata": {
        "id": "7nuivDeCZCAj"
      },
      "source": [
        "https://keras.io/api/applications\n",
        "\n",
        "https://github.com/keras-team/keras-applications\n",
        "\n",
        "https://github.com/keras-team/keras-applications/tree/master/keras_applications"
      ]
    },
    {
      "cell_type": "code",
      "metadata": {
        "id": "TOLjGNMaWqI2",
        "outputId": "5d0222fa-0607-4778-d5bd-ba652ac21c94",
        "colab": {
          "base_uri": "https://localhost:8080/",
          "height": 867
        }
      },
      "source": [
        "from tensorflow.keras import applications\n",
        "dir(applications)"
      ],
      "execution_count": 14,
      "outputs": [
        {
          "output_type": "execute_result",
          "data": {
            "text/plain": [
              "['DenseNet121',\n",
              " 'DenseNet169',\n",
              " 'DenseNet201',\n",
              " 'EfficientNetB0',\n",
              " 'EfficientNetB1',\n",
              " 'EfficientNetB2',\n",
              " 'EfficientNetB3',\n",
              " 'EfficientNetB4',\n",
              " 'EfficientNetB5',\n",
              " 'EfficientNetB6',\n",
              " 'EfficientNetB7',\n",
              " 'InceptionResNetV2',\n",
              " 'InceptionV3',\n",
              " 'MobileNet',\n",
              " 'MobileNetV2',\n",
              " 'NASNetLarge',\n",
              " 'NASNetMobile',\n",
              " 'ResNet101',\n",
              " 'ResNet101V2',\n",
              " 'ResNet152',\n",
              " 'ResNet152V2',\n",
              " 'ResNet50',\n",
              " 'ResNet50V2',\n",
              " 'VGG16',\n",
              " 'VGG19',\n",
              " 'Xception',\n",
              " '__builtins__',\n",
              " '__cached__',\n",
              " '__doc__',\n",
              " '__file__',\n",
              " '__loader__',\n",
              " '__name__',\n",
              " '__package__',\n",
              " '__path__',\n",
              " '__spec__',\n",
              " '_sys',\n",
              " 'densenet',\n",
              " 'efficientnet',\n",
              " 'imagenet_utils',\n",
              " 'inception_resnet_v2',\n",
              " 'inception_v3',\n",
              " 'mobilenet',\n",
              " 'mobilenet_v2',\n",
              " 'nasnet',\n",
              " 'resnet',\n",
              " 'resnet50',\n",
              " 'resnet_v2',\n",
              " 'vgg16',\n",
              " 'vgg19',\n",
              " 'xception']"
            ]
          },
          "metadata": {
            "tags": []
          },
          "execution_count": 14
        }
      ]
    },
    {
      "cell_type": "code",
      "metadata": {
        "id": "aeRhnH7ATpj4",
        "outputId": "35ab5259-72e9-47f9-e247-7ed5b4fadb23",
        "colab": {
          "base_uri": "https://localhost:8080/",
          "height": 71
        }
      },
      "source": [
        "from tensorflow.keras.applications.inception_resnet_v2 import *\n",
        "from tensorflow.keras.preprocessing import image\n",
        "import numpy as np\n",
        "\n",
        "model = InceptionResNetV2(weights='imagenet')"
      ],
      "execution_count": 20,
      "outputs": [
        {
          "output_type": "stream",
          "text": [
            "Downloading data from https://storage.googleapis.com/tensorflow/keras-applications/inception_resnet_v2/inception_resnet_v2_weights_tf_dim_ordering_tf_kernels.h5\n",
            "225214464/225209952 [==============================] - 2s 0us/step\n"
          ],
          "name": "stdout"
        }
      ]
    },
    {
      "cell_type": "code",
      "metadata": {
        "id": "8hj6qv_GUT-9",
        "outputId": "5bd61119-bd96-4c07-d9e2-76109d2c8c92",
        "colab": {
          "base_uri": "https://localhost:8080/",
          "height": 204
        }
      },
      "source": [
        "! rm *.jpg\n",
        "! wget https://upload.wikimedia.org/wikipedia/commons/3/37/African_Bush_Elephant.jpg\n",
        "! mv *.jpg image.jpg"
      ],
      "execution_count": 11,
      "outputs": [
        {
          "output_type": "stream",
          "text": [
            "--2020-10-11 11:18:44--  https://upload.wikimedia.org/wikipedia/commons/3/37/African_Bush_Elephant.jpg\n",
            "Resolving upload.wikimedia.org (upload.wikimedia.org)... 208.80.154.240, 2620:0:861:ed1a::2:b\n",
            "Connecting to upload.wikimedia.org (upload.wikimedia.org)|208.80.154.240|:443... connected.\n",
            "HTTP request sent, awaiting response... 200 OK\n",
            "Length: 4783815 (4.6M) [image/jpeg]\n",
            "Saving to: ‘African_Bush_Elephant.jpg’\n",
            "\n",
            "\r          African_B   0%[                    ]       0  --.-KB/s               \r         African_Bu  99%[==================> ]   4.54M  22.7MB/s               \rAfrican_Bush_Elepha 100%[===================>]   4.56M  22.7MB/s    in 0.2s    \n",
            "\n",
            "2020-10-11 11:18:44 (22.7 MB/s) - ‘African_Bush_Elephant.jpg’ saved [4783815/4783815]\n",
            "\n"
          ],
          "name": "stdout"
        }
      ]
    },
    {
      "cell_type": "code",
      "metadata": {
        "id": "79IoqngWUNjG",
        "outputId": "ff95e914-28ba-47ed-b6a8-f0b12038354a",
        "colab": {
          "base_uri": "https://localhost:8080/",
          "height": 71
        }
      },
      "source": [
        "img = image.load_img('image.jpg', target_size=(299, 299))\n",
        "x = image.img_to_array(img)\n",
        "x = np.expand_dims(x, axis=0)\n",
        "x = preprocess_input(x)\n",
        "\n",
        "preds = model.predict(x)\n",
        "# decode the results into a list of tuples (class, description, probability)\n",
        "# (one such list for each sample in the batch)\n",
        "print('Predicted:', decode_predictions(preds, top=3)[0])"
      ],
      "execution_count": 22,
      "outputs": [
        {
          "output_type": "stream",
          "text": [
            "WARNING:tensorflow:7 out of the last 7 calls to <function Model.make_predict_function.<locals>.predict_function at 0x7fccd58d69d8> triggered tf.function retracing. Tracing is expensive and the excessive number of tracings could be due to (1) creating @tf.function repeatedly in a loop, (2) passing tensors with different shapes, (3) passing Python objects instead of tensors. For (1), please define your @tf.function outside of the loop. For (2), @tf.function has experimental_relax_shapes=True option that relaxes argument shapes that can avoid unnecessary retracing. For (3), please refer to https://www.tensorflow.org/tutorials/customization/performance#python_or_tensor_args and https://www.tensorflow.org/api_docs/python/tf/function for  more details.\n",
            "Predicted: [('n02504458', 'African_elephant', 0.644356), ('n01871265', 'tusker', 0.2687344), ('n02504013', 'Indian_elephant', 0.018168267)]\n"
          ],
          "name": "stdout"
        }
      ]
    }
  ]
}