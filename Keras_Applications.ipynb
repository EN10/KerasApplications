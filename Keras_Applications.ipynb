{
  "nbformat": 4,
  "nbformat_minor": 0,
  "metadata": {
    "colab": {
      "name": "Keras Applications Classification",
      "provenance": []
    },
    "kernelspec": {
      "name": "python3",
      "display_name": "Python 3"
    }
  },
  "cells": [
    {
      "cell_type": "markdown",
      "metadata": {
        "id": "7nuivDeCZCAj"
      },
      "source": [
        "https://keras.io/api/applications\n",
        "\n",
        "https://github.com/keras-team/keras-applications\n",
        "\n",
        "https://github.com/keras-team/keras-applications/tree/master/keras_applications"
      ]
    },
    {
      "cell_type": "code",
      "metadata": {
        "id": "TOLjGNMaWqI2",
        "outputId": "d109317b-bba6-46ba-b7f7-186ca6da3499",
        "colab": {
          "base_uri": "https://localhost:8080/",
          "height": 867
        }
      },
      "source": [
        "from tensorflow.keras import applications\n",
        "dir(applications)"
      ],
      "execution_count": 1,
      "outputs": [
        {
          "output_type": "execute_result",
          "data": {
            "text/plain": [
              "['DenseNet121',\n",
              " 'DenseNet169',\n",
              " 'DenseNet201',\n",
              " 'EfficientNetB0',\n",
              " 'EfficientNetB1',\n",
              " 'EfficientNetB2',\n",
              " 'EfficientNetB3',\n",
              " 'EfficientNetB4',\n",
              " 'EfficientNetB5',\n",
              " 'EfficientNetB6',\n",
              " 'EfficientNetB7',\n",
              " 'InceptionResNetV2',\n",
              " 'InceptionV3',\n",
              " 'MobileNet',\n",
              " 'MobileNetV2',\n",
              " 'NASNetLarge',\n",
              " 'NASNetMobile',\n",
              " 'ResNet101',\n",
              " 'ResNet101V2',\n",
              " 'ResNet152',\n",
              " 'ResNet152V2',\n",
              " 'ResNet50',\n",
              " 'ResNet50V2',\n",
              " 'VGG16',\n",
              " 'VGG19',\n",
              " 'Xception',\n",
              " '__builtins__',\n",
              " '__cached__',\n",
              " '__doc__',\n",
              " '__file__',\n",
              " '__loader__',\n",
              " '__name__',\n",
              " '__package__',\n",
              " '__path__',\n",
              " '__spec__',\n",
              " '_sys',\n",
              " 'densenet',\n",
              " 'efficientnet',\n",
              " 'imagenet_utils',\n",
              " 'inception_resnet_v2',\n",
              " 'inception_v3',\n",
              " 'mobilenet',\n",
              " 'mobilenet_v2',\n",
              " 'nasnet',\n",
              " 'resnet',\n",
              " 'resnet50',\n",
              " 'resnet_v2',\n",
              " 'vgg16',\n",
              " 'vgg19',\n",
              " 'xception']"
            ]
          },
          "metadata": {
            "tags": []
          },
          "execution_count": 1
        }
      ]
    },
    {
      "cell_type": "code",
      "metadata": {
        "id": "aeRhnH7ATpj4"
      },
      "source": [
        "from tensorflow.keras.applications.densenet import *\n",
        "from tensorflow.keras.preprocessing import image\n",
        "import numpy as np\n",
        "\n",
        "model = DenseNet201(weights='imagenet')"
      ],
      "execution_count": 2,
      "outputs": []
    },
    {
      "cell_type": "code",
      "metadata": {
        "id": "8hj6qv_GUT-9",
        "outputId": "2637cda3-a36b-42f0-ecf1-27902ca7c4dd",
        "colab": {
          "base_uri": "https://localhost:8080/",
          "height": 204
        }
      },
      "source": [
        "! rm *.jpg\n",
        "! wget https://upload.wikimedia.org/wikipedia/commons/3/37/African_Bush_Elephant.jpg\n",
        "! mv *.jpg image.jpg"
      ],
      "execution_count": 3,
      "outputs": [
        {
          "output_type": "stream",
          "text": [
            "--2020-10-11 11:31:59--  https://upload.wikimedia.org/wikipedia/commons/3/37/African_Bush_Elephant.jpg\n",
            "Resolving upload.wikimedia.org (upload.wikimedia.org)... 208.80.154.240, 2620:0:861:ed1a::2:b\n",
            "Connecting to upload.wikimedia.org (upload.wikimedia.org)|208.80.154.240|:443... connected.\n",
            "HTTP request sent, awaiting response... 200 OK\n",
            "Length: 4783815 (4.6M) [image/jpeg]\n",
            "Saving to: ‘African_Bush_Elephant.jpg’\n",
            "\n",
            "African_Bush_Elepha 100%[===================>]   4.56M  22.5MB/s    in 0.2s    \n",
            "\n",
            "2020-10-11 11:32:00 (22.5 MB/s) - ‘African_Bush_Elephant.jpg’ saved [4783815/4783815]\n",
            "\n"
          ],
          "name": "stdout"
        }
      ]
    },
    {
      "cell_type": "code",
      "metadata": {
        "id": "79IoqngWUNjG",
        "outputId": "216a5748-1e3b-441c-aea4-898e0b665ce8",
        "colab": {
          "base_uri": "https://localhost:8080/",
          "height": 34
        }
      },
      "source": [
        "img = image.load_img('image.jpg', target_size=(224, 224))\n",
        "x = image.img_to_array(img)\n",
        "x = np.expand_dims(x, axis=0)\n",
        "x = preprocess_input(x)\n",
        "\n",
        "preds = model.predict(x)\n",
        "# decode the results into a list of tuples (class, description, probability)\n",
        "# (one such list for each sample in the batch)\n",
        "print('Predicted:', decode_predictions(preds, top=3)[0])"
      ],
      "execution_count": 4,
      "outputs": [
        {
          "output_type": "stream",
          "text": [
            "Predicted: [('n02504458', 'African_elephant', 0.877943), ('n01871265', 'tusker', 0.10989447), ('n02504013', 'Indian_elephant', 0.009569843)]\n"
          ],
          "name": "stdout"
        }
      ]
    }
  ]
}
